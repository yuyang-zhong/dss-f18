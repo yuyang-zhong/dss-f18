{
 "cells": [
  {
   "cell_type": "markdown",
   "metadata": {
    "colab_type": "text",
    "id": "AGwrWmmEZQzs"
   },
   "source": [
    "# Introductory Statistics Workshop\n",
    "\n",
    "Data Science Society @Berkeley | Fall 2018\n",
    "\n",
    "Wednesday, November 14, 2018\n",
    "\n",
    "To access the solution, please go to `datahub.berkeley.edu` and access your copy of the solution in the dssf18 folder.\n"
   ]
  },
  {
   "cell_type": "markdown",
   "metadata": {
    "colab_type": "text",
    "id": "r6vrHUylZQzt"
   },
   "source": [
    "### Introduction\n",
    "\n",
    "Welcome to the workshop! Today you will be learning about:\n",
    "\n",
    "*  RCT vs observational study\n",
    "*  Randomization, sampling\n",
    "*  Hypothesis Test\n",
    "*  Confidence Interval\n",
    "*  Visualizing data\n",
    "*  Probability\n",
    "*  Combinatorics\n",
    "\n",
    "Throughout this notebook we use a python library called **Pandas** in order to store and display our data. If you would like to learn how to use Pandas in more detail, check out our Python workshop materials: https://tinyurl.com/dsspythonf18\n",
    "\n",
    "https://pypi.python.org/pypi/datascience/"
   ]
  },
  {
   "cell_type": "code",
   "execution_count": null,
   "metadata": {
    "colab": {},
    "colab_type": "code",
    "id": "BD-JQqsSbBNd"
   },
   "outputs": [],
   "source": [
    "import numpy as np\n",
    "import pandas as pd\n",
    "import scipy.stats as stats\n",
    "import seaborn as sns\n",
    "import matplotlib.pyplot as plt"
   ]
  },
  {
   "cell_type": "markdown",
   "metadata": {
    "colab_type": "text",
    "id": "bHlHGpYOeBsK"
   },
   "source": [
    "## The Dataset\n",
    "\n",
    "In 2013, students of the Statistics class at FSEV UK were asked to invite their friends to participate in this survey.\n",
    "\n",
    "The data file (responses.csv) consists of 1010 rows and 150 columns (139 integer and 11 categorical).\n",
    "\n",
    "Each row represents a young person's response. Each column is a question/topic on which each person had to give a rating or information. This link has more detailed description of the dataset: [Young People Survey](https://www.kaggle.com/miroslavsabo/young-people-survey).\n",
    "\n",
    "Here is an example of convenience sampling, which isn't as accurate as pure simple random sampling, but is still reliable enough to formulate valid conclusions from. You are making conclusions of this data and not necessarily trying to generalize the conclusions to the whole population of young people, so convenience sampling is ok. Many times in real life, when conducting observational studies, you will be working with data that came from convenience sampling.\n",
    "\n"
   ]
  },
  {
   "cell_type": "markdown",
   "metadata": {
    "colab_type": "text",
    "id": "pAvGtfoaIy7V"
   },
   "source": [
    "### Importing Data\n",
    "\n",
    "Your code could look like:\n",
    "\n",
    "`data_all = pd.read_csv('DSS 11-14 Stat Workshop/responses.csv')`\n",
    "\n",
    "or\n",
    "\n",
    "`data_all = pd.read_csv('folder_name/responses.csv')`"
   ]
  },
  {
   "cell_type": "code",
   "execution_count": null,
   "metadata": {
    "colab": {},
    "colab_type": "code",
    "id": "dLndCu4hWHJL"
   },
   "outputs": [],
   "source": [
    "columns = pd.read_csv(\"https://raw.githubusercontent.com/krutikaingale/Data-Science-Society/master/columns.csv\")\n",
    "data_all = pd.read_csv(\"https://raw.githubusercontent.com/krutikaingale/Data-Science-Society/master/responses.csv\")"
   ]
  },
  {
   "cell_type": "code",
   "execution_count": null,
   "metadata": {
    "colab": {},
    "colab_type": "code",
    "id": "7LXQn-b2btBQ"
   },
   "outputs": [],
   "source": [
    "data_all"
   ]
  },
  {
   "cell_type": "markdown",
   "metadata": {
    "colab_type": "text",
    "id": "jSVUx1Lifa-K"
   },
   "source": [
    "### Spending Habits\n",
    "\n",
    "Now let's study spending habits, specifically those of males and females.\n",
    "\n",
    "We pick the columns that relate to spending, and pick the gender column. Columns are indexed at `0`. So we can reference columns by their index `0,1,2,...149`."
   ]
  },
  {
   "cell_type": "code",
   "execution_count": null,
   "metadata": {
    "colab": {},
    "colab_type": "code",
    "id": "Ak4BdXkCfvIc"
   },
   "outputs": [],
   "source": [
    "spending  = data_all.iloc[:,134:140] #.iloc[:, a:b] chooses columns indexed at a up to but not including b\n",
    "spending['Gender'] = data_all['Gender']\n",
    "spending"
   ]
  },
  {
   "cell_type": "markdown",
   "metadata": {
    "colab_type": "text",
    "id": "rArDA-EEgqIh"
   },
   "source": [
    "The columns represent these questions:\n",
    "\n",
    "1.   I enjoy going to large shopping centres.: Strongly disagree 1-2-3-4-5 Strongly agree (integer)\n",
    "\n",
    "2.   I prefer branded clothing to non branded.: Strongly disagree 1-2-3-4-5 Strongly agree (integer)\n",
    "\n",
    "3.   I spend a lot of money on partying and socializing.: Strongly disagree 1-2-3-4-5 Strongly agree (integer)\n",
    "\n",
    "4.   I spend a lot of money on my appearance.: Strongly disagree 1-2-3-4-5 Strongly agree (integer)\n",
    "\n",
    "5.   I spend a lot of money on gadgets.: Strongly disagree 1-2-3-4-5 Strongly agree (integer)\n",
    "\n",
    "6.   I will hapilly pay more money for good, quality or healthy food.: Strongly disagree 1-2-3-4-5 Strongly agree (integer)\n",
    "\n"
   ]
  },
  {
   "cell_type": "markdown",
   "metadata": {
    "colab_type": "text",
    "id": "lyPoQYAZku1O"
   },
   "source": [
    "*Note: From now on, when we reference \"male and female spending\", we mean \"male and female spending ratings.\" *italicized text*"
   ]
  },
  {
   "cell_type": "markdown",
   "metadata": {
    "colab_type": "text",
    "id": "GBtS_ejbJcuG"
   },
   "source": [
    "We can tell the entire dataframe to drop NaN values and convert them to 0s."
   ]
  },
  {
   "cell_type": "code",
   "execution_count": null,
   "metadata": {
    "colab": {},
    "colab_type": "code",
    "id": "pfRq9Jh1hEC5"
   },
   "outputs": [],
   "source": [
    "spending.fillna(0, inplace = True)\n",
    "spending.head()"
   ]
  },
  {
   "cell_type": "markdown",
   "metadata": {
    "colab_type": "text",
    "id": "JkGsGcIJfJ6F"
   },
   "source": [
    "#### Aggregating Spending Scores\n",
    "\n",
    "**Group Question.** What do larger ratings mean for spending habits? What do smaller ratings mean for spending habits? How can we combine all the responses for all 6 questions into 1 informative response?"
   ]
  },
  {
   "cell_type": "markdown",
   "metadata": {
    "colab_type": "text",
    "id": "5fnnEpZlhRaB"
   },
   "source": [
    "In the table, larger numbers/ratings in essence implies that the person spends more. So let's sum up all the spending of each person into a single spending column. The resulting summed column will be of type float. \n",
    "\n",
    "Larger numbers/ratings should mean the person spends more."
   ]
  },
  {
   "cell_type": "code",
   "execution_count": null,
   "metadata": {
    "colab": {},
    "colab_type": "code",
    "id": "KNb0l9I7hU4x"
   },
   "outputs": [],
   "source": [
    "spending_amount = spending.iloc[:, 0] + spending.iloc[:, 1] + spending.iloc[:, 2] + spending.iloc[:, 3] + spending.iloc[:, 4] + spending.iloc[:, 5] \n",
    "total_df = pd.DataFrame(spending_amount).rename(columns = {0: 'Spending Amount'})\n",
    "total_df['Gender'] = spending['Gender']\n",
    "total_df"
   ]
  },
  {
   "cell_type": "markdown",
   "metadata": {
    "colab_type": "text",
    "id": "0-_86w0oiU7x"
   },
   "source": [
    "#### Spending Habit By Gender\n",
    "\n",
    "Now let's create a table with female spending and a table for male spending."
   ]
  },
  {
   "cell_type": "code",
   "execution_count": null,
   "metadata": {
    "colab": {},
    "colab_type": "code",
    "id": "3S3Qq-BuiyKo"
   },
   "outputs": [],
   "source": [
    "#female spending data frame\n",
    "female_spending = total_df[total_df['Gender'] == 'female']\n",
    "female_spending"
   ]
  },
  {
   "cell_type": "code",
   "execution_count": null,
   "metadata": {
    "colab": {},
    "colab_type": "code",
    "id": "mxjPb2qMiyRr"
   },
   "outputs": [],
   "source": [
    "#male spending data frame\n",
    "male_spending = total_df[total_df['Gender'] == 'male']\n",
    "male_spending"
   ]
  },
  {
   "cell_type": "markdown",
   "metadata": {
    "colab_type": "text",
    "id": "OM3_glQxgwQq"
   },
   "source": [
    "**Group Question.** Now which simulation method should we use (shuffling, bootsrapping, etc) and why? Could you give a basic outline of the simulation process?"
   ]
  },
  {
   "cell_type": "markdown",
   "metadata": {
    "colab_type": "text",
    "id": "CftCKfEfjIg_"
   },
   "source": [
    "Now we want to stack the total spending of females on top of the spending of males and put it into a data frame. We do this so we can run our simulation of shuffling for our hypothesis test."
   ]
  },
  {
   "cell_type": "code",
   "execution_count": null,
   "metadata": {
    "colab": {},
    "colab_type": "code",
    "id": "mKC1dnhJjeHM"
   },
   "outputs": [],
   "source": [
    "appended_spending = female_spending['Spending Amount'].append(male_spending['Spending Amount'], ignore_index=True)\n",
    "\n",
    "print(\"Number of Females: \", len(female_spending['Spending Amount']))\n",
    "print(\"Number of Males: \",len(male_spending['Spending Amount']))\n",
    "#These are only females and males, There are people who idenitfy otherwise in the actual dataset, but we're only focused on females and males\n",
    "final_spending = pd.DataFrame(appended_spending)\n",
    "final_spending\n",
    "#females are the first 593 rows, males are the next 411 rows"
   ]
  },
  {
   "cell_type": "markdown",
   "metadata": {
    "colab_type": "text",
    "id": "EbzoFlN_jvT_"
   },
   "source": [
    "The females are the first 593 rows, males are the next 411 rows. There are 1004 rows in total."
   ]
  },
  {
   "cell_type": "markdown",
   "metadata": {
    "colab_type": "text",
    "id": "6eu5rP04hQ-H"
   },
   "source": [
    "#### Test Statistic\n",
    "\n",
    "**Group Question.** What is a good test statistic to use and why? Remember we're trying to compare two groups."
   ]
  },
  {
   "cell_type": "markdown",
   "metadata": {
    "colab_type": "text",
    "id": "0IYC4bXyj_AB"
   },
   "source": [
    "Let's compare the spending of males and females. We can do this by subtracting the male and female average spending. This will serve as our test statistic : male average spending - female average spending."
   ]
  },
  {
   "cell_type": "code",
   "execution_count": null,
   "metadata": {
    "colab": {},
    "colab_type": "code",
    "id": "AJ_Ya7-LkCi-"
   },
   "outputs": [],
   "source": [
    "observed_test_statistic = male_spending['Spending Amount'].mean() - female_spending['Spending Amount'].mean()\n",
    "observed_test_statistic\n"
   ]
  },
  {
   "cell_type": "markdown",
   "metadata": {
    "colab_type": "text",
    "id": "g_MQHUY0lQh-"
   },
   "source": [
    "The positive difference of 0.85 indicates that the male spending seems to be higher than the female spending, and that females may be more money-efficient than males. Higher ratings from the males implies that males don't mind spending more money."
   ]
  },
  {
   "cell_type": "markdown",
   "metadata": {
    "colab_type": "text",
    "id": "VnwYIS4il1Z6"
   },
   "source": [
    "## Hypothesis Testing"
   ]
  },
  {
   "cell_type": "markdown",
   "metadata": {
    "colab_type": "text",
    "id": "Mrl9JYiqhel2"
   },
   "source": [
    "**Group Question.** What is our null and alternative hypothesis?"
   ]
  },
  {
   "cell_type": "markdown",
   "metadata": {
    "colab_type": "text",
    "id": "bLDCJHkGl_zT"
   },
   "source": [
    "**Null Hypothesis**: There is no difference between male and female spending. The females' spendings are like a random sample of 593  out of all 1004 expenditures. If the males' average spending came out higher than that of the females, it is due to **chance** variation.\n",
    "\n",
    "**Alternative Hypothesis**: The males' spending being higher than the females' spending is not due to chance. There is something other than chance causing the difference between male and female spending."
   ]
  },
  {
   "cell_type": "markdown",
   "metadata": {
    "colab_type": "text",
    "id": "0_HhGJMvmele"
   },
   "source": [
    "When you sample without replacement (by specifiying with_replacement=False) the same number of times as there are rows, you end up with a random shuffle of all the rows, which represents finding a new sample. Under the null hypothesis, differences in the female and male spending averages should be close to 0 (aka there is no difference between male and female spending). Under the null hypothesis, each new sample we get from shuffling the rows, male spending average - female spending average should be close to 0.\n",
    "\n",
    "**Overarching method**: We shuffle the rows of final_spending by random sampling. Choose the top 593 rows of resulting sampled dataframe to represent female spendings and find the average spending. The remaining 411 rows will represent male spending and find the average. \n",
    "\n",
    "**Our test statistic:** male spending average - female spending average."
   ]
  },
  {
   "cell_type": "markdown",
   "metadata": {
    "colab_type": "text",
    "id": "AQC4PiWEnUeq"
   },
   "source": [
    "### Simulating Test Statistics\n",
    "\n",
    "Pseudocode:\n",
    "\n",
    "\n",
    "```\n",
    "Declare an test_statistics_array\n",
    "\n",
    "Repeat process 10,000 times to get 10,000 test statistics:\n",
    "\n",
    "   In one sample:\n",
    "   \n",
    "           We shuffle the rows of final_spending by random sampling. Choose the top 593 rows of resulting sampled dataframe \n",
    "           to represent female spendings and find the average spending. The remaining 411 rows will represent male spending \n",
    "           and find the average. \n",
    "           \n",
    "           this_sample's_test_statistic = male spending average - female spending average\n",
    "           \n",
    "           test_statistics_array.add on (this_sample's_test_statistic)\n",
    "```\n"
   ]
  },
  {
   "cell_type": "code",
   "execution_count": null,
   "metadata": {
    "colab": {},
    "colab_type": "code",
    "id": "CzbBXD08oOq4"
   },
   "outputs": [],
   "source": [
    "simulated_statistics = []\n",
    "repetitions = 10000\n",
    "\n",
    "for i in np.arange(repetitions):\n",
    "    shuffled = final_spending.sample(n = len(final_spending.index), replace=False)\n",
    "    female_mean = (shuffled.iloc[0:593])['Spending Amount'].mean()\n",
    "    male_mean = (shuffled.iloc[593:len(final_spending.index)])['Spending Amount'].mean()\n",
    "    test_statistic = male_mean - female_mean\n",
    "    simulated_statistics = np.append(simulated_statistics, test_statistic)"
   ]
  },
  {
   "cell_type": "code",
   "execution_count": null,
   "metadata": {
    "colab": {},
    "colab_type": "code",
    "id": "0onHYu0goOyU"
   },
   "outputs": [],
   "source": [
    "simulated_statistics"
   ]
  },
  {
   "cell_type": "code",
   "execution_count": null,
   "metadata": {
    "colab": {},
    "colab_type": "code",
    "id": "m2qt7pGRoXDp"
   },
   "outputs": [],
   "source": [
    "len(simulated_statistics)"
   ]
  },
  {
   "cell_type": "markdown",
   "metadata": {
    "colab_type": "text",
    "id": "9vJbu4zZogXN"
   },
   "source": [
    "Our observed test statistic was 0.8549870139461575.\n",
    "\n",
    "**P-value** : Chance (computed under the null hypothesis) of getting a test statistic equal to the one that was observed or more in the direction of the alternative. In our case, \"direction of the alternative\" means greater than or equal to 0.8549870139461575.\n",
    "\n",
    "$$\\mbox{P-value} = \\frac{\\mbox{number of differences we calculated under the null hypothesis that's greater than what was observed in the beginning}}{\\mbox{total number of differences}}$$ \n",
    "\n",
    "By dividing we get the \"chance\" that we're looking for. We're trying to see if the observed test statistic is too extreme.\n",
    "\n",
    "To calculate our p-value, we do `empirical_P = np.count_nonzero(simulated_statistics >= observed_statistic)/repetitions`\n"
   ]
  },
  {
   "cell_type": "code",
   "execution_count": null,
   "metadata": {
    "colab": {},
    "colab_type": "code",
    "id": "A4mGhdyCpCgL"
   },
   "outputs": [],
   "source": [
    "empirical_P = np.count_nonzero(simulated_statistics >= observed_test_statistic)/repetitions\n",
    "print('Observed Statistic:', observed_test_statistic)\n",
    "print('Empirical P:', empirical_P)\n",
    "\n",
    "results = pd.DataFrame(np.array(simulated_statistics)).rename(columns = {0 : 'Simulated Statistics'})\n",
    "results['Simulated Statistics'].plot(normed = True, kind='hist', color = 'navy')\n",
    "plt.xlabel('Difference in Spending (M-F)')\n",
    "plt.ylabel('Proportion')\n",
    "plt.title('Histogram of Differences Scores')\n",
    "\n",
    "plt.scatter(observed_test_statistic, 0, color='red', s=50);\n",
    "left = results['Simulated Statistics'].sort_values(ascending = True).quantile(0.025)\n",
    "right = results['Simulated Statistics'].sort_values(ascending = True).quantile(0.975)\n",
    "print('95% Confidence Interval:', left, \", \", right )\n",
    "plt.plot((left, right), (0, 0), 'yellow', lw = 8)\n",
    "plt.show()"
   ]
  },
  {
   "cell_type": "markdown",
   "metadata": {
    "colab_type": "text",
    "id": "dCWDef9viARp"
   },
   "source": [
    "***Group Question***: What is the conclusion of our test and why? Explain.\n",
    "\n",
    "What's the our p-value?"
   ]
  },
  {
   "cell_type": "code",
   "execution_count": null,
   "metadata": {
    "colab": {},
    "colab_type": "code",
    "id": "OqS1MpUbNUFK"
   },
   "outputs": [],
   "source": [
    "empirical_P"
   ]
  },
  {
   "cell_type": "markdown",
   "metadata": {
    "colab_type": "text",
    "id": "y9yIQ1U5r6HS"
   },
   "source": [
    "**Observed Statistics**\n",
    "\n",
    "Under null hypothesis, `male_spending - female_spending` should be close to 0, since we assume male and female spending is the same. The above histogram does show that, since it is centered at 0.\n",
    "\n",
    "However, we see the observed test statistic is very \"extreme\" and lies away from the heart of the distribution. The observed test statistic, in red, is about 0.85, which means the `male_spending - female_spending` average is positive. This suggests that male spent more money than female, and that female save more money."
   ]
  },
  {
   "cell_type": "markdown",
   "metadata": {
    "colab_type": "text",
    "id": "N3HruYP-NssZ"
   },
   "source": [
    "**P-Value**\n",
    "\n",
    "The p-value is about 0.0026 and we use a p-value cutoff of 0.05 along with a 95% confidence interval.\n",
    "\n",
    "Since 0.0026 < 0.05, and even < 0.01,  we see that the difference between male and female spending that was observed in the beginning is too extreme to have occurred by just chance. There is something other than chance that caused the males to spend more than females.\n",
    "\n",
    "So we reject the null hypothesis that male and female spending habits of the young people who took the survey are the same."
   ]
  },
  {
   "cell_type": "markdown",
   "metadata": {
    "colab_type": "text",
    "id": "Qz_562VpZQzu"
   },
   "source": [
    "## Data Visualization"
   ]
  },
  {
   "cell_type": "markdown",
   "metadata": {
    "colab_type": "text",
    "id": "EaKc9aERuA93"
   },
   "source": [
    "### Bar Charts: Categorical Data"
   ]
  },
  {
   "cell_type": "code",
   "execution_count": null,
   "metadata": {
    "colab": {},
    "colab_type": "code",
    "id": "8VCJ7_YJnF7H"
   },
   "outputs": [],
   "source": [
    "spending.head()"
   ]
  },
  {
   "cell_type": "markdown",
   "metadata": {
    "colab_type": "text",
    "id": "wYGruMPTpsIr"
   },
   "source": [
    "We can analyze some of this data using a bar graph.\n",
    "\n",
    "**Discussion Question.** What does the data tell us about people's willingness to spend more money on \"good\" food?\n"
   ]
  },
  {
   "cell_type": "markdown",
   "metadata": {
    "colab_type": "text",
    "id": "NAf9QxrJONy3"
   },
   "source": [
    "For categorical data, we use a bar chart to visualize.\n",
    "\n",
    "* can rearrange bars\n",
    "* can flip the orientation of the graph"
   ]
  },
  {
   "cell_type": "code",
   "execution_count": null,
   "metadata": {
    "colab": {},
    "colab_type": "code",
    "id": "kXfqn3ipnIt2"
   },
   "outputs": [],
   "source": [
    "grouped = spending.groupby('Spending on healthy eating').count().iloc[:, :1]\n",
    "grouped.index = [\"\", 'Strongly Disagree', 'Disagree', 'Neutral', \"Agree\", \"Strongly Agree\"]\n",
    "grouped.index.names = ['Willing to spend more on food']\n",
    "grouped.columns = ['responses']\n",
    "grouped.plot(kind=\"barh\")   # barh to flip bar"
   ]
  },
  {
   "cell_type": "markdown",
   "metadata": {
    "colab_type": "text",
    "id": "65jtJmNiOjpf"
   },
   "source": [
    "We can rearrange bars and still read the graph."
   ]
  },
  {
   "cell_type": "code",
   "execution_count": null,
   "metadata": {
    "colab": {},
    "colab_type": "code",
    "id": "3MgYIIYMOl-7"
   },
   "outputs": [],
   "source": [
    "grouped = grouped.sample(6, replace=False) \n",
    "# took 6 samples from the set of 6 categories -> rearrange\n",
    "grouped.plot(kind=\"barh\")"
   ]
  },
  {
   "cell_type": "markdown",
   "metadata": {
    "colab_type": "text",
    "id": "r4zShRHZuGvF"
   },
   "source": [
    "**Data:** Top 200 highest grossing movies of all time."
   ]
  },
  {
   "cell_type": "code",
   "execution_count": null,
   "metadata": {
    "colab": {},
    "colab_type": "code",
    "id": "B-dCq-Ljuf7M"
   },
   "outputs": [],
   "source": [
    "movies = pd.read_csv(\"https://raw.githubusercontent.com/carlocrza/Data_Science_Society/master/top_movies.csv\")\n",
    "movies.head()"
   ]
  },
  {
   "cell_type": "code",
   "execution_count": null,
   "metadata": {
    "colab": {},
    "colab_type": "code",
    "id": "uFcRUdLIZQzu"
   },
   "outputs": [],
   "source": [
    "movies.to_csv(\"testing.csv\")\n",
    "\n",
    "g = movies[['Studio', 'Title']].groupby(\"Studio\").count()\n",
    "plt.barh(g.index, g['Title'])"
   ]
  },
  {
   "cell_type": "markdown",
   "metadata": {
    "colab_type": "text",
    "id": "i5INiB73dWAT"
   },
   "source": [
    "### Histograms: Continuous Data\n",
    "\n",
    "Say we wanted to know how many movies made more than `$`500 billion and how many made more than `$`600 million, etc. This is a distribution of the movie gross (dolloar amounts are continuous on a spectrum). We use a histogram to represent continuous data."
   ]
  },
  {
   "cell_type": "markdown",
   "metadata": {
    "colab_type": "text",
    "id": "Hc0uJxtsPMUv"
   },
   "source": [
    "#### Setting Up the Plot\n",
    "\n",
    "First, let's think about our x-axis: it will represent the amount of money made for movies. "
   ]
  },
  {
   "cell_type": "code",
   "execution_count": null,
   "metadata": {
    "colab": {},
    "colab_type": "code",
    "id": "qWYD5Yc-1foN"
   },
   "outputs": [],
   "source": [
    "gross = movies[['Gross (Adjusted)']].apply(lambda x: np.round(x/1e6, 2))['Gross (Adjusted)']\n",
    "\n",
    "min(gross), max(gross)"
   ]
  },
  {
   "cell_type": "markdown",
   "metadata": {
    "colab_type": "text",
    "id": "nMN7eYPU1Wsu"
   },
   "source": [
    "Our x-axis will go from `$`338 to `$`1796. Let's divide this range into **bins of width 100**."
   ]
  },
  {
   "cell_type": "code",
   "execution_count": null,
   "metadata": {
    "colab": {},
    "colab_type": "code",
    "id": "KEMoofqT14FZ"
   },
   "outputs": [],
   "source": [
    "np.histogram(gross, bins=np.arange(300,2001,100))"
   ]
  },
  {
   "cell_type": "markdown",
   "metadata": {
    "colab_type": "text",
    "id": "eWmTcC4SP334"
   },
   "source": [
    "What are the two arrays returned?"
   ]
  },
  {
   "cell_type": "code",
   "execution_count": null,
   "metadata": {
    "colab": {},
    "colab_type": "code",
    "id": "bKFCJZ7eyPM_"
   },
   "outputs": [],
   "source": [
    "gross.hist(bins=np.arange(300,2001,100), figsize=(15,7))"
   ]
  },
  {
   "cell_type": "markdown",
   "metadata": {
    "colab_type": "text",
    "id": "hIrbyV-X23yH"
   },
   "source": [
    "Y-axis above is the number of occurrences."
   ]
  },
  {
   "cell_type": "markdown",
   "metadata": {
    "colab_type": "text",
    "id": "nDKFXWRuP-t6"
   },
   "source": [
    "#### Adjusting Bins\n",
    "\n",
    "We can have unequal bin widths. Sometimes this is useful.\n",
    "\n",
    "**Problem:** now it looks like there are a ton of movies that make more than 700 million."
   ]
  },
  {
   "cell_type": "code",
   "execution_count": null,
   "metadata": {
    "colab": {},
    "colab_type": "code",
    "id": "xpHQV10FvZxM"
   },
   "outputs": [],
   "source": [
    "gross.hist(bins=list(np.arange(300,700,100)) + [700,2000], figsize=(15,7))"
   ]
  },
  {
   "cell_type": "markdown",
   "metadata": {
    "colab_type": "text",
    "id": "XgGR1rBKQLal"
   },
   "source": [
    "#### Density in Histograms"
   ]
  },
  {
   "cell_type": "code",
   "execution_count": null,
   "metadata": {
    "colab": {},
    "colab_type": "code",
    "id": "4Pm5CzVc3MUW"
   },
   "outputs": [],
   "source": [
    "gross.hist(bins=list(np.arange(300,700,100)) + [700,2000], figsize=(15,7), density=True)"
   ]
  },
  {
   "cell_type": "markdown",
   "metadata": {
    "colab_type": "text",
    "id": "IogJoSdc3Koj"
   },
   "source": [
    "Now the y-axis represents \"DENSITY\" of Data. The height for the bin \\[700, 2000) is now very low because it has super-low density (think huge bin width but few entries). Compared to the bin 300-400 with only a width of 100 but ~70 entries. \n",
    "\n",
    "How is this useful?\n",
    "*  Visually makes more sense: even with unequal bins, we can see that movies from 300-400 are much more common than movies above 700\n",
    "*  The area of a bin = the percent of values that appear in that bin:\n",
    "\n",
    "$$\\mbox{area of bar} = \\mbox{percent of entries in bin}\\\\\n",
    "\\mbox{area of bar} = \\mbox{height of bar} \\times \\mbox{width of bin}$$"
   ]
  },
  {
   "cell_type": "markdown",
   "metadata": {
    "colab_type": "text",
    "id": "ZAHOKz6Hu2f8"
   },
   "source": [
    "**Question.** What percent of movies make between `$`300 and `$`500 million dollars?"
   ]
  },
  {
   "cell_type": "code",
   "execution_count": null,
   "metadata": {
    "colab": {},
    "colab_type": "code",
    "id": "W3TROyUhvaAW"
   },
   "outputs": [],
   "source": [
    "movies_300_to_500 = ...\n",
    "movies_300_to_500"
   ]
  },
  {
   "cell_type": "markdown",
   "metadata": {
    "colab_type": "text",
    "id": "Gh9t64JlzWz6"
   },
   "source": [
    "## Probabilities"
   ]
  },
  {
   "cell_type": "markdown",
   "metadata": {
    "colab_type": "text",
    "id": "FYvJIKaekFKk"
   },
   "source": [
    "**So what's probability?**\n",
    "\n",
    "\n",
    "Probability is the:\n",
    "*   Chance\n",
    "*   Likelihood\n",
    "\n",
    "of something happening\n"
   ]
  },
  {
   "cell_type": "markdown",
   "metadata": {
    "colab_type": "text",
    "id": "NpngnJhulDwj"
   },
   "source": [
    "**Why do we care?**\n",
    "\n",
    "\n",
    "\n",
    "*   Help us make informed judgment from randomness in life\n",
    "*   Estimations\n",
    "*   Analyze trends\n",
    "*   Statistical Inference\n",
    "\n"
   ]
  },
  {
   "cell_type": "markdown",
   "metadata": {
    "colab_type": "text",
    "id": "a0Xh5hq3kcSn"
   },
   "source": [
    "### Calculating Probability\n",
    "\n",
    "The probability for a certain event $A$to occur is:\n",
    "\n",
    "$$P(A) = \\frac{E}{n}$$ \n",
    "\n",
    "where $P$ is the probability of an event $A$ would occur, \n",
    "\n",
    "$E$ is the number of ways the event $A$ can occur, and\n",
    "\n",
    "$n$ is the total number of outcomes."
   ]
  },
  {
   "cell_type": "markdown",
   "metadata": {
    "colab_type": "text",
    "id": "c7rfg1-Rt5SL"
   },
   "source": [
    "And given a certain probability of something that **would** happen, the probability of it **NOT** happening is:\n",
    "\n",
    "$$P(A^C)=1-P(A)$$\n",
    "\n",
    "where $A^C$ (the complement of event $A$, read as \"A not\" or \"A complement\") is the number of ways event $A$ would not occur."
   ]
  },
  {
   "cell_type": "markdown",
   "metadata": {
    "colab_type": "text",
    "id": "9_XWoCMik_Yx"
   },
   "source": [
    "**Exercise 1.** Given a 6-sided fair dice, what is the probability of getting an even number after rolling once? "
   ]
  },
  {
   "cell_type": "code",
   "execution_count": null,
   "metadata": {
    "colab": {},
    "colab_type": "code",
    "id": "4qBNiNJptVs_"
   },
   "outputs": [],
   "source": [
    "even = ...\n",
    "total_sides = ...\n",
    "P1_even = ...\n",
    "P1_even"
   ]
  },
  {
   "cell_type": "markdown",
   "metadata": {
    "colab_type": "text",
    "id": "a97OnCjBtgUh"
   },
   "source": [
    "**Exercise 2.** If there are 15 red balls, 28 white balls, and 7 black balls in a box, what is the probability of pulling out a ball that is **not red** from this box? "
   ]
  },
  {
   "cell_type": "code",
   "execution_count": null,
   "metadata": {
    "colab": {},
    "colab_type": "code",
    "id": "Gxzpa_hEtf_R"
   },
   "outputs": [],
   "source": [
    "red = ...\n",
    "total_balls = ...\n",
    "P2_not_red = ...\n",
    "P2_not_red"
   ]
  },
  {
   "cell_type": "markdown",
   "metadata": {
    "colab_type": "text",
    "id": "IjA_0xTcztbX"
   },
   "source": [
    "### Basic Sets"
   ]
  },
  {
   "cell_type": "markdown",
   "metadata": {
    "colab_type": "text",
    "id": "10rCtNsYwFpJ"
   },
   "source": [
    "Sometimes we are not only interested in 1 simple event, and we make want to stack up the conditions and calculate their probaiblity.\n",
    "\n",
    "Given 2 **independent** events A and B:\n",
    "\n",
    "$$P(A ∩ B) = P(A) × P(B)$$\n",
    "\n",
    "The probability for both $A$ and $B$ to occur, $P(A ∩ B)$ (\"A intersect B\" or \"A and B\"), is the product of each event's probability to occur independently. \n"
   ]
  },
  {
   "cell_type": "markdown",
   "metadata": {
    "colab_type": "text",
    "id": "x-gMJWs4ykbE"
   },
   "source": [
    "**Exercise 3.** Consider 2 identical boxes with the same mix up of colored balls from above (15 R, 28 W, and 7 B), what is the probability that you will pull a red ball from the one box, and a white ball from the other at the same time?"
   ]
  },
  {
   "cell_type": "code",
   "execution_count": null,
   "metadata": {
    "colab": {},
    "colab_type": "code",
    "id": "8r5Oid4Uzv-r"
   },
   "outputs": [],
   "source": [
    "one_red = ...\n",
    "one_white = ...\n",
    "P3_red_and_white = ...\n",
    "P3_red_and_white"
   ]
  },
  {
   "cell_type": "markdown",
   "metadata": {
    "colab_type": "text",
    "id": "_adVBzyj14yO"
   },
   "source": [
    "Given two **mutually exclusive** (they never happen at the same time) events A and B:\n",
    "\n",
    "$$P(A ∪ B) = P(A) + P(B)$$\n",
    "\n",
    "The probability for either $A$ or $B$ to occur, $P(A ∪ B)$ (\"A union B\" or \"A or B\"), is the sum of each event's probability to occur.\n"
   ]
  },
  {
   "cell_type": "markdown",
   "metadata": {
    "colab_type": "text",
    "id": "m8EHVmp32ymw"
   },
   "source": [
    "**Exercise 4.** Consider only one box with the same color mix up, what is the probability that you will either pull a white or a black from the box?"
   ]
  },
  {
   "cell_type": "code",
   "execution_count": null,
   "metadata": {
    "colab": {},
    "colab_type": "code",
    "id": "p84uo2lI29wt"
   },
   "outputs": [],
   "source": [
    "white = ...\n",
    "black = ...\n",
    "P4_white_or_black = ...\n",
    "P4_white_or_black"
   ]
  },
  {
   "cell_type": "markdown",
   "metadata": {
    "colab_type": "text",
    "id": "psAgSB-p6ZSz"
   },
   "source": [
    "**Challenge:** how do you calculate this for two events that are **NOT** mutually exclusive? Try drawing a venn diagram."
   ]
  },
  {
   "cell_type": "markdown",
   "metadata": {
    "colab_type": "text",
    "id": "k65chpJn29j2"
   },
   "source": [
    "### Conditional Probability\n",
    "\n",
    "Given 2 events A and B:\n",
    "\n",
    "$$P(B|A) = \\frac{P(A ∩ B)}{P(A)}$$\n",
    "\n",
    "The probability of $B$ occurring, given $A$ has already occurred, $P(B|A)$, is given by the probability of $A$ and $B$ both occurring divided by the probability of $A$ occurring alone. "
   ]
  },
  {
   "cell_type": "markdown",
   "metadata": {
    "colab_type": "text",
    "id": "uSLvl7XE5622"
   },
   "source": [
    "**Exercise 5.** Given the same box and same color mix up, what is the probability that you will pull out a white ball after pulling a red ball?"
   ]
  },
  {
   "cell_type": "code",
   "execution_count": null,
   "metadata": {
    "colab": {},
    "colab_type": "code",
    "id": "v_w9ucSZ6DZy"
   },
   "outputs": [],
   "source": [
    "red_and_white = ...\n",
    "red_only = ...\n",
    "P5_white_given_red = ...\n",
    "P5_white_given_red"
   ]
  },
  {
   "cell_type": "markdown",
   "metadata": {
    "colab_type": "text",
    "id": "aMfqNLI76PVe"
   },
   "source": [
    "**Challenge:** what is another way of approaching this problem without using this formula?"
   ]
  },
  {
   "cell_type": "markdown",
   "metadata": {
    "colab_type": "text",
    "id": "Rojy4j8S8MZS"
   },
   "source": [
    "We will come back to talk about why probability is important to us in analyzing data. "
   ]
  },
  {
   "cell_type": "markdown",
   "metadata": {
    "colab_type": "text",
    "id": "4_3QDOEmzZxd"
   },
   "source": [
    "## Combinatorics"
   ]
  },
  {
   "cell_type": "markdown",
   "metadata": {
    "colab_type": "text",
    "id": "kpD8uqZH_gZF"
   },
   "source": [
    "We use combinatorics to help us make decisions, and many times used to calculate **total outcomes** of a event happening in a certain way. "
   ]
  },
  {
   "cell_type": "markdown",
   "metadata": {
    "colab_type": "text",
    "id": "eCLte3rT-Xad"
   },
   "source": [
    "### Permutation\n",
    "\n",
    "Say we are tasked to do something, given some individual liberty to choose the different ways of doing it. There are a total of $n$ options, and you can only select $r$ out of the $n$. In this particular task, the original **order** of the options **matters**. \n",
    "\n",
    "$$_nP_r =\\frac{n!}{(n-r)!}$$  \n",
    "\n",
    "The total number of ordered ways of selecting $r$ out of $n$ options, $_nP_r$, would be factorial of $n$ divided by factorial of $(n-r)$."
   ]
  },
  {
   "cell_type": "markdown",
   "metadata": {
    "colab_type": "text",
    "id": "LZZcfOUcA9sj"
   },
   "source": [
    "**Exercise 1.** Your mom is a very organized person. Each day she has an ordered list of 50 chores to go through from morning to night, and since you are going on thanksgiving break, you decided to help her out. But your professor gave you 2 papers and 3 finals to study for, so you only have so much time to help her with 5 chores. How many ways can you help with your mom's chores?\n",
    "\n",
    "You can use the factorial function in numpy's math library, `np.math.factorial`, to calcualte factorials.\n",
    "\n"
   ]
  },
  {
   "cell_type": "code",
   "execution_count": null,
   "metadata": {
    "colab": {},
    "colab_type": "code",
    "id": "q7s4TLzXCu9W"
   },
   "outputs": [],
   "source": [
    "help_mom_perm = ...\n",
    "help_mom_perm"
   ]
  },
  {
   "cell_type": "markdown",
   "metadata": {
    "colab_type": "text",
    "id": "NNr_KBU5Curp"
   },
   "source": [
    "### Combination\n",
    "\n",
    "Given the same tasks, with $n$ options and $r$ selections, only this time, we don't care about the order.\n",
    "\n",
    "$$_nC_r =\\frac{n!}{(n-r)!  r!}$$  \n",
    "\n",
    "The total number of unordered ways of selecting $r$ out of $n$ options, $_nC_r$, would be factorial of $n$ divided by factorial of $(n-r)$ multiplied by factorial of $r$."
   ]
  },
  {
   "cell_type": "markdown",
   "metadata": {
    "colab_type": "text",
    "id": "zww1oi1K_Ikg"
   },
   "source": [
    "**Exercise 2.** One of the chores your mom gave you is to shop for groceries and ingredients for your thanksgiving dinner. There are a total 150 things you need to buy, but you can only fit 80 items in the car for each trip to Costco. Assuming that this Costco has all 150 items for purchase, how many different ways can you buy your items to fit your first car load?"
   ]
  },
  {
   "cell_type": "code",
   "execution_count": null,
   "metadata": {
    "colab": {},
    "colab_type": "code",
    "id": "7LAGPjpqESoo"
   },
   "outputs": [],
   "source": [
    "costco_run_combo = ...\n",
    "costco_run_combo"
   ]
  }
 ],
 "metadata": {
  "colab": {
   "collapsed_sections": [
    "AGwrWmmEZQzs",
    "VnwYIS4il1Z6",
    "EaKc9aERuA93",
    "wYGruMPTpsIr",
    "XD2XS3lgt9UD",
    "ZAHOKz6Hu2f8"
   ],
   "name": "DSS 11/14 Introductory Statistics.ipynb",
   "provenance": [],
   "version": "0.3.2"
  },
  "kernelspec": {
   "display_name": "Python 3",
   "language": "python",
   "name": "python3"
  },
  "language_info": {
   "codemirror_mode": {
    "name": "ipython",
    "version": 3
   },
   "file_extension": ".py",
   "mimetype": "text/x-python",
   "name": "python",
   "nbconvert_exporter": "python",
   "pygments_lexer": "ipython3",
   "version": "3.6.4"
  }
 },
 "nbformat": 4,
 "nbformat_minor": 1
}
